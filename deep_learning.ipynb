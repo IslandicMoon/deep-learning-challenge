{
  "cells": [
    {
      "cell_type": "markdown",
      "metadata": {
        "id": "view-in-github",
        "colab_type": "text"
      },
      "source": [
        "<a href=\"https://colab.research.google.com/github/IslandicMoon/deep-learning-challenge/blob/main/deep_learning.ipynb\" target=\"_parent\"><img src=\"https://colab.research.google.com/assets/colab-badge.svg\" alt=\"Open In Colab\"/></a>"
      ]
    },
    {
      "cell_type": "markdown",
      "metadata": {
        "id": "7uWa4iwPtMh0"
      },
      "source": [
        "## Preprocessing"
      ]
    },
    {
      "cell_type": "code",
      "execution_count": 2,
      "metadata": {
        "colab": {
          "base_uri": "https://localhost:8080/",
          "height": 206
        },
        "id": "BYi6rAuYtMh2",
        "outputId": "88a89df7-aff7-4416-f289-f1c71f21b719"
      },
      "outputs": [
        {
          "output_type": "execute_result",
          "data": {
            "text/plain": [
              "        EIN                                      NAME APPLICATION_TYPE  \\\n",
              "0  10520599              BLUE KNIGHTS MOTORCYCLE CLUB              T10   \n",
              "1  10531628    AMERICAN CHESAPEAKE CLUB CHARITABLE TR               T3   \n",
              "2  10547893        ST CLOUD PROFESSIONAL FIREFIGHTERS               T5   \n",
              "3  10553066            SOUTHSIDE ATHLETIC ASSOCIATION               T3   \n",
              "4  10556103  GENETIC RESEARCH INSTITUTE OF THE DESERT               T3   \n",
              "\n",
              "        AFFILIATION CLASSIFICATION      USE_CASE  ORGANIZATION  STATUS  \\\n",
              "0       Independent          C1000    ProductDev   Association       1   \n",
              "1       Independent          C2000  Preservation  Co-operative       1   \n",
              "2  CompanySponsored          C3000    ProductDev   Association       1   \n",
              "3  CompanySponsored          C2000  Preservation         Trust       1   \n",
              "4       Independent          C1000     Heathcare         Trust       1   \n",
              "\n",
              "      INCOME_AMT SPECIAL_CONSIDERATIONS  ASK_AMT  IS_SUCCESSFUL  \n",
              "0              0                      N     5000              1  \n",
              "1         1-9999                      N   108590              1  \n",
              "2              0                      N     5000              0  \n",
              "3    10000-24999                      N     6692              1  \n",
              "4  100000-499999                      N   142590              1  "
            ],
            "text/html": [
              "\n",
              "  <div id=\"df-b598dc71-a328-49ff-a28e-fb66ea8a16bf\" class=\"colab-df-container\">\n",
              "    <div>\n",
              "<style scoped>\n",
              "    .dataframe tbody tr th:only-of-type {\n",
              "        vertical-align: middle;\n",
              "    }\n",
              "\n",
              "    .dataframe tbody tr th {\n",
              "        vertical-align: top;\n",
              "    }\n",
              "\n",
              "    .dataframe thead th {\n",
              "        text-align: right;\n",
              "    }\n",
              "</style>\n",
              "<table border=\"1\" class=\"dataframe\">\n",
              "  <thead>\n",
              "    <tr style=\"text-align: right;\">\n",
              "      <th></th>\n",
              "      <th>EIN</th>\n",
              "      <th>NAME</th>\n",
              "      <th>APPLICATION_TYPE</th>\n",
              "      <th>AFFILIATION</th>\n",
              "      <th>CLASSIFICATION</th>\n",
              "      <th>USE_CASE</th>\n",
              "      <th>ORGANIZATION</th>\n",
              "      <th>STATUS</th>\n",
              "      <th>INCOME_AMT</th>\n",
              "      <th>SPECIAL_CONSIDERATIONS</th>\n",
              "      <th>ASK_AMT</th>\n",
              "      <th>IS_SUCCESSFUL</th>\n",
              "    </tr>\n",
              "  </thead>\n",
              "  <tbody>\n",
              "    <tr>\n",
              "      <th>0</th>\n",
              "      <td>10520599</td>\n",
              "      <td>BLUE KNIGHTS MOTORCYCLE CLUB</td>\n",
              "      <td>T10</td>\n",
              "      <td>Independent</td>\n",
              "      <td>C1000</td>\n",
              "      <td>ProductDev</td>\n",
              "      <td>Association</td>\n",
              "      <td>1</td>\n",
              "      <td>0</td>\n",
              "      <td>N</td>\n",
              "      <td>5000</td>\n",
              "      <td>1</td>\n",
              "    </tr>\n",
              "    <tr>\n",
              "      <th>1</th>\n",
              "      <td>10531628</td>\n",
              "      <td>AMERICAN CHESAPEAKE CLUB CHARITABLE TR</td>\n",
              "      <td>T3</td>\n",
              "      <td>Independent</td>\n",
              "      <td>C2000</td>\n",
              "      <td>Preservation</td>\n",
              "      <td>Co-operative</td>\n",
              "      <td>1</td>\n",
              "      <td>1-9999</td>\n",
              "      <td>N</td>\n",
              "      <td>108590</td>\n",
              "      <td>1</td>\n",
              "    </tr>\n",
              "    <tr>\n",
              "      <th>2</th>\n",
              "      <td>10547893</td>\n",
              "      <td>ST CLOUD PROFESSIONAL FIREFIGHTERS</td>\n",
              "      <td>T5</td>\n",
              "      <td>CompanySponsored</td>\n",
              "      <td>C3000</td>\n",
              "      <td>ProductDev</td>\n",
              "      <td>Association</td>\n",
              "      <td>1</td>\n",
              "      <td>0</td>\n",
              "      <td>N</td>\n",
              "      <td>5000</td>\n",
              "      <td>0</td>\n",
              "    </tr>\n",
              "    <tr>\n",
              "      <th>3</th>\n",
              "      <td>10553066</td>\n",
              "      <td>SOUTHSIDE ATHLETIC ASSOCIATION</td>\n",
              "      <td>T3</td>\n",
              "      <td>CompanySponsored</td>\n",
              "      <td>C2000</td>\n",
              "      <td>Preservation</td>\n",
              "      <td>Trust</td>\n",
              "      <td>1</td>\n",
              "      <td>10000-24999</td>\n",
              "      <td>N</td>\n",
              "      <td>6692</td>\n",
              "      <td>1</td>\n",
              "    </tr>\n",
              "    <tr>\n",
              "      <th>4</th>\n",
              "      <td>10556103</td>\n",
              "      <td>GENETIC RESEARCH INSTITUTE OF THE DESERT</td>\n",
              "      <td>T3</td>\n",
              "      <td>Independent</td>\n",
              "      <td>C1000</td>\n",
              "      <td>Heathcare</td>\n",
              "      <td>Trust</td>\n",
              "      <td>1</td>\n",
              "      <td>100000-499999</td>\n",
              "      <td>N</td>\n",
              "      <td>142590</td>\n",
              "      <td>1</td>\n",
              "    </tr>\n",
              "  </tbody>\n",
              "</table>\n",
              "</div>\n",
              "    <div class=\"colab-df-buttons\">\n",
              "\n",
              "  <div class=\"colab-df-container\">\n",
              "    <button class=\"colab-df-convert\" onclick=\"convertToInteractive('df-b598dc71-a328-49ff-a28e-fb66ea8a16bf')\"\n",
              "            title=\"Convert this dataframe to an interactive table.\"\n",
              "            style=\"display:none;\">\n",
              "\n",
              "  <svg xmlns=\"http://www.w3.org/2000/svg\" height=\"24px\" viewBox=\"0 -960 960 960\">\n",
              "    <path d=\"M120-120v-720h720v720H120Zm60-500h600v-160H180v160Zm220 220h160v-160H400v160Zm0 220h160v-160H400v160ZM180-400h160v-160H180v160Zm440 0h160v-160H620v160ZM180-180h160v-160H180v160Zm440 0h160v-160H620v160Z\"/>\n",
              "  </svg>\n",
              "    </button>\n",
              "\n",
              "  <style>\n",
              "    .colab-df-container {\n",
              "      display:flex;\n",
              "      gap: 12px;\n",
              "    }\n",
              "\n",
              "    .colab-df-convert {\n",
              "      background-color: #E8F0FE;\n",
              "      border: none;\n",
              "      border-radius: 50%;\n",
              "      cursor: pointer;\n",
              "      display: none;\n",
              "      fill: #1967D2;\n",
              "      height: 32px;\n",
              "      padding: 0 0 0 0;\n",
              "      width: 32px;\n",
              "    }\n",
              "\n",
              "    .colab-df-convert:hover {\n",
              "      background-color: #E2EBFA;\n",
              "      box-shadow: 0px 1px 2px rgba(60, 64, 67, 0.3), 0px 1px 3px 1px rgba(60, 64, 67, 0.15);\n",
              "      fill: #174EA6;\n",
              "    }\n",
              "\n",
              "    .colab-df-buttons div {\n",
              "      margin-bottom: 4px;\n",
              "    }\n",
              "\n",
              "    [theme=dark] .colab-df-convert {\n",
              "      background-color: #3B4455;\n",
              "      fill: #D2E3FC;\n",
              "    }\n",
              "\n",
              "    [theme=dark] .colab-df-convert:hover {\n",
              "      background-color: #434B5C;\n",
              "      box-shadow: 0px 1px 3px 1px rgba(0, 0, 0, 0.15);\n",
              "      filter: drop-shadow(0px 1px 2px rgba(0, 0, 0, 0.3));\n",
              "      fill: #FFFFFF;\n",
              "    }\n",
              "  </style>\n",
              "\n",
              "    <script>\n",
              "      const buttonEl =\n",
              "        document.querySelector('#df-b598dc71-a328-49ff-a28e-fb66ea8a16bf button.colab-df-convert');\n",
              "      buttonEl.style.display =\n",
              "        google.colab.kernel.accessAllowed ? 'block' : 'none';\n",
              "\n",
              "      async function convertToInteractive(key) {\n",
              "        const element = document.querySelector('#df-b598dc71-a328-49ff-a28e-fb66ea8a16bf');\n",
              "        const dataTable =\n",
              "          await google.colab.kernel.invokeFunction('convertToInteractive',\n",
              "                                                    [key], {});\n",
              "        if (!dataTable) return;\n",
              "\n",
              "        const docLinkHtml = 'Like what you see? Visit the ' +\n",
              "          '<a target=\"_blank\" href=https://colab.research.google.com/notebooks/data_table.ipynb>data table notebook</a>'\n",
              "          + ' to learn more about interactive tables.';\n",
              "        element.innerHTML = '';\n",
              "        dataTable['output_type'] = 'display_data';\n",
              "        await google.colab.output.renderOutput(dataTable, element);\n",
              "        const docLink = document.createElement('div');\n",
              "        docLink.innerHTML = docLinkHtml;\n",
              "        element.appendChild(docLink);\n",
              "      }\n",
              "    </script>\n",
              "  </div>\n",
              "\n",
              "\n",
              "<div id=\"df-1a7be445-eca5-44b1-8785-35732eb0083d\">\n",
              "  <button class=\"colab-df-quickchart\" onclick=\"quickchart('df-1a7be445-eca5-44b1-8785-35732eb0083d')\"\n",
              "            title=\"Suggest charts\"\n",
              "            style=\"display:none;\">\n",
              "\n",
              "<svg xmlns=\"http://www.w3.org/2000/svg\" height=\"24px\"viewBox=\"0 0 24 24\"\n",
              "     width=\"24px\">\n",
              "    <g>\n",
              "        <path d=\"M19 3H5c-1.1 0-2 .9-2 2v14c0 1.1.9 2 2 2h14c1.1 0 2-.9 2-2V5c0-1.1-.9-2-2-2zM9 17H7v-7h2v7zm4 0h-2V7h2v10zm4 0h-2v-4h2v4z\"/>\n",
              "    </g>\n",
              "</svg>\n",
              "  </button>\n",
              "\n",
              "<style>\n",
              "  .colab-df-quickchart {\n",
              "      --bg-color: #E8F0FE;\n",
              "      --fill-color: #1967D2;\n",
              "      --hover-bg-color: #E2EBFA;\n",
              "      --hover-fill-color: #174EA6;\n",
              "      --disabled-fill-color: #AAA;\n",
              "      --disabled-bg-color: #DDD;\n",
              "  }\n",
              "\n",
              "  [theme=dark] .colab-df-quickchart {\n",
              "      --bg-color: #3B4455;\n",
              "      --fill-color: #D2E3FC;\n",
              "      --hover-bg-color: #434B5C;\n",
              "      --hover-fill-color: #FFFFFF;\n",
              "      --disabled-bg-color: #3B4455;\n",
              "      --disabled-fill-color: #666;\n",
              "  }\n",
              "\n",
              "  .colab-df-quickchart {\n",
              "    background-color: var(--bg-color);\n",
              "    border: none;\n",
              "    border-radius: 50%;\n",
              "    cursor: pointer;\n",
              "    display: none;\n",
              "    fill: var(--fill-color);\n",
              "    height: 32px;\n",
              "    padding: 0;\n",
              "    width: 32px;\n",
              "  }\n",
              "\n",
              "  .colab-df-quickchart:hover {\n",
              "    background-color: var(--hover-bg-color);\n",
              "    box-shadow: 0 1px 2px rgba(60, 64, 67, 0.3), 0 1px 3px 1px rgba(60, 64, 67, 0.15);\n",
              "    fill: var(--button-hover-fill-color);\n",
              "  }\n",
              "\n",
              "  .colab-df-quickchart-complete:disabled,\n",
              "  .colab-df-quickchart-complete:disabled:hover {\n",
              "    background-color: var(--disabled-bg-color);\n",
              "    fill: var(--disabled-fill-color);\n",
              "    box-shadow: none;\n",
              "  }\n",
              "\n",
              "  .colab-df-spinner {\n",
              "    border: 2px solid var(--fill-color);\n",
              "    border-color: transparent;\n",
              "    border-bottom-color: var(--fill-color);\n",
              "    animation:\n",
              "      spin 1s steps(1) infinite;\n",
              "  }\n",
              "\n",
              "  @keyframes spin {\n",
              "    0% {\n",
              "      border-color: transparent;\n",
              "      border-bottom-color: var(--fill-color);\n",
              "      border-left-color: var(--fill-color);\n",
              "    }\n",
              "    20% {\n",
              "      border-color: transparent;\n",
              "      border-left-color: var(--fill-color);\n",
              "      border-top-color: var(--fill-color);\n",
              "    }\n",
              "    30% {\n",
              "      border-color: transparent;\n",
              "      border-left-color: var(--fill-color);\n",
              "      border-top-color: var(--fill-color);\n",
              "      border-right-color: var(--fill-color);\n",
              "    }\n",
              "    40% {\n",
              "      border-color: transparent;\n",
              "      border-right-color: var(--fill-color);\n",
              "      border-top-color: var(--fill-color);\n",
              "    }\n",
              "    60% {\n",
              "      border-color: transparent;\n",
              "      border-right-color: var(--fill-color);\n",
              "    }\n",
              "    80% {\n",
              "      border-color: transparent;\n",
              "      border-right-color: var(--fill-color);\n",
              "      border-bottom-color: var(--fill-color);\n",
              "    }\n",
              "    90% {\n",
              "      border-color: transparent;\n",
              "      border-bottom-color: var(--fill-color);\n",
              "    }\n",
              "  }\n",
              "</style>\n",
              "\n",
              "  <script>\n",
              "    async function quickchart(key) {\n",
              "      const quickchartButtonEl =\n",
              "        document.querySelector('#' + key + ' button');\n",
              "      quickchartButtonEl.disabled = true;  // To prevent multiple clicks.\n",
              "      quickchartButtonEl.classList.add('colab-df-spinner');\n",
              "      try {\n",
              "        const charts = await google.colab.kernel.invokeFunction(\n",
              "            'suggestCharts', [key], {});\n",
              "      } catch (error) {\n",
              "        console.error('Error during call to suggestCharts:', error);\n",
              "      }\n",
              "      quickchartButtonEl.classList.remove('colab-df-spinner');\n",
              "      quickchartButtonEl.classList.add('colab-df-quickchart-complete');\n",
              "    }\n",
              "    (() => {\n",
              "      let quickchartButtonEl =\n",
              "        document.querySelector('#df-1a7be445-eca5-44b1-8785-35732eb0083d button');\n",
              "      quickchartButtonEl.style.display =\n",
              "        google.colab.kernel.accessAllowed ? 'block' : 'none';\n",
              "    })();\n",
              "  </script>\n",
              "</div>\n",
              "    </div>\n",
              "  </div>\n"
            ]
          },
          "metadata": {},
          "execution_count": 2
        }
      ],
      "source": [
        "# Import our dependencies\n",
        "from sklearn.model_selection import train_test_split\n",
        "from sklearn.preprocessing import StandardScaler\n",
        "import pandas as pd\n",
        "import numpy as np\n",
        "import tensorflow as tf\n",
        "from tensorflow.keras.callbacks import ModelCheckpoint\n",
        "\n",
        "#  Import and read the charity_data.csv.\n",
        "import pandas as pd\n",
        "application_df = pd.read_csv(\"https://static.bc-edx.com/data/dl-1-2/m21/lms/starter/charity_data.csv\")\n",
        "application_df.head()"
      ]
    },
    {
      "cell_type": "code",
      "execution_count": 3,
      "metadata": {
        "id": "yHQKUj59tMh4"
      },
      "outputs": [],
      "source": [
        "# Drop the non-beneficial ID columns, 'EIN' and 'NAME'.\n",
        "application_df_cleaned = application_df.drop(columns=[\"EIN\", \"NAME\"])"
      ]
    },
    {
      "cell_type": "code",
      "execution_count": 4,
      "metadata": {
        "id": "t3X2eVr1tMh5"
      },
      "outputs": [],
      "source": [
        "# Determine the number of unique values in each column.\n",
        "unique_values = application_df_cleaned.nunique()"
      ]
    },
    {
      "cell_type": "code",
      "execution_count": 5,
      "metadata": {
        "id": "jEWHEW7XtMh5"
      },
      "outputs": [],
      "source": [
        "# Look at APPLICATION_TYPE value counts for binning\n",
        "applicaiton_type = application_df.dtypes"
      ]
    },
    {
      "cell_type": "code",
      "execution_count": 6,
      "metadata": {
        "colab": {
          "base_uri": "https://localhost:8080/"
        },
        "id": "zJEWxpqftMh6",
        "outputId": "3c71cc66-2cc3-4069-86a2-7e14e7bbe90c"
      },
      "outputs": [
        {
          "output_type": "execute_result",
          "data": {
            "text/plain": [
              "T3       27037\n",
              "T4        1542\n",
              "T6        1216\n",
              "T5        1173\n",
              "T19       1065\n",
              "T8         737\n",
              "T7         725\n",
              "T10        528\n",
              "Other      276\n",
              "Name: APPLICATION_TYPE, dtype: int64"
            ]
          },
          "metadata": {},
          "execution_count": 6
        }
      ],
      "source": [
        "# Choose a cutoff value and create a list of application types to be replaced\n",
        "# use the variable name `application_types_to_replace`\n",
        "\n",
        "application_types_to_replace = [\"T9\", \"T13\", \"T12\", \"T2\", \"T14\", \"T25\", \"T15\", \"T29\", \"T17\"]\n",
        "\n",
        "# Replace in dataframe\n",
        "for app in application_types_to_replace:\n",
        "    application_df['APPLICATION_TYPE'] = application_df['APPLICATION_TYPE'].replace(app,\"Other\")\n",
        "\n",
        "# Check to make sure binning was successful\n",
        "application_df['APPLICATION_TYPE'].value_counts()"
      ]
    },
    {
      "cell_type": "code",
      "execution_count": 7,
      "metadata": {
        "id": "Zwgg0yyKtMh7"
      },
      "outputs": [],
      "source": [
        "# Look at CLASSIFICATION value counts for binning\n",
        "classification_counts = application_df['CLASSIFICATION'].value_counts()"
      ]
    },
    {
      "cell_type": "code",
      "execution_count": 8,
      "metadata": {
        "id": "SiuyFQxitMh7"
      },
      "outputs": [],
      "source": [
        "# You may find it helpful to look at CLASSIFICATION value counts >1\n",
        "filtered_classification_counts = classification_counts[classification_counts > 1]"
      ]
    },
    {
      "cell_type": "code",
      "execution_count": 9,
      "metadata": {
        "colab": {
          "base_uri": "https://localhost:8080/"
        },
        "id": "V5jJT1FBtMh8",
        "outputId": "ec287fb2-3272-429e-d1b4-010f7fed47a8"
      },
      "outputs": [
        {
          "output_type": "execute_result",
          "data": {
            "text/plain": [
              "C1000    17326\n",
              "C2000     6074\n",
              "C1200     4837\n",
              "C3000     1918\n",
              "C2100     1883\n",
              "C7000      777\n",
              "Other      669\n",
              "C1700      287\n",
              "C4000      194\n",
              "C5000      116\n",
              "C1270      114\n",
              "C2700      104\n",
              "Name: CLASSIFICATION, dtype: int64"
            ]
          },
          "metadata": {},
          "execution_count": 9
        }
      ],
      "source": [
        "# Choose a cutoff value and create a list of classifications to be replaced\n",
        "# use the variable name `classifications_to_replace`\n",
        "classifications_to_replace = [ \"C7120\", \"C1580\", \"C1900\", \"C1820\", \"C6100\", \"C1248\", \"C2600\", \"C1370\", \"C5200\", \"C4200\", \"C2190\", \"C1236\", \"C2570\", \"C1728\", \"C3700\", \"C2500\", \"C1570\", \"C1283\", \"C2380\", \"C1732\", \"C2170\", \"C4120\" ,\"C8210\",\"C4500\",\"C1245\" ,\"C2561\", \"C2150\",\"C1256\", \"C3200\", \"C1267\", \"C1246\", \"C1234\", \"C2710\", \"C1260\", \"C0\", \"C1600\", \"C1257\", \"C4100\", \"C2400\", \"C1720\", \"C7210\", \"C1235\", \"C1237\", \"C1238\", \"C1278\", \"C8200\", \"C1250\", \"C6000\", \"C1800\", \"C1500\", \"C71200\", \"C8000\", \"C1240\", \"C2300\", \"C7200\", \"C1400\", \"C1230\", \"C1280\", \"C1300\", \"C7100\", \"C2800\"]\n",
        "\n",
        "# Replace in dataframe\n",
        "for cls in classifications_to_replace:\n",
        "    application_df['CLASSIFICATION'] = application_df['CLASSIFICATION'].replace(cls,\"Other\")\n",
        "\n",
        "# Check to make sure binning was successful\n",
        "application_df['CLASSIFICATION'].value_counts()"
      ]
    },
    {
      "cell_type": "code",
      "execution_count": 10,
      "metadata": {
        "id": "zvdSI5gKtMh9"
      },
      "outputs": [],
      "source": [
        "# Convert categorical data to numeric with `pd.get_dummies`\n",
        "application_df_encoded = pd.get_dummies(application_df_cleaned)"
      ]
    },
    {
      "cell_type": "code",
      "execution_count": 53,
      "metadata": {
        "id": "0sDpLV0KtMh9"
      },
      "outputs": [],
      "source": [
        "# Split our preprocessed data into our features and target arrays\n",
        "X = application_df[\"ASK_AMT\"]\n",
        "y = application_df[\"IS_SUCCESSFUL\"]\n",
        "\n",
        "\n",
        "# Split the preprocessed data into a training and testing dataset\n",
        "X_train, X_test, y_train, y_test = train_test_split(X, y, random_state=42)"
      ]
    },
    {
      "cell_type": "code",
      "execution_count": 54,
      "metadata": {
        "id": "iwmi0sJetMh9"
      },
      "outputs": [],
      "source": [
        "# Create a StandardScaler instances\n",
        "scaler = StandardScaler()\n",
        "\n",
        "#X_train_reshaped = X_train.values.reshape()\n",
        "\n",
        "# Scale the data\n",
        "#X_train_scaled = scaler.fit_transform(X_train_reshaped)\n",
        "\n",
        "#reshape X_test\n",
        "#X_test_reshaped = X_test.values.reshape(-1, 1)\n",
        "#X_test_scaled = scaler.transform(X_test_reshaped)"
      ]
    },
    {
      "cell_type": "markdown",
      "metadata": {
        "id": "P-xjMJVVtMh-"
      },
      "source": [
        "## Compile, Train and Evaluate the Model"
      ]
    },
    {
      "cell_type": "code",
      "execution_count": 61,
      "metadata": {
        "colab": {
          "base_uri": "https://localhost:8080/"
        },
        "id": "IbjxIn8ytMh-",
        "outputId": "fa3de14a-e349-41a4-c1e5-11751c1f6e84"
      },
      "outputs": [
        {
          "output_type": "stream",
          "name": "stdout",
          "text": [
            "Model: \"sequential_9\"\n",
            "_________________________________________________________________\n",
            " Layer (type)                Output Shape              Param #   \n",
            "=================================================================\n",
            " dense_19 (Dense)            (None, 5)                 10        \n",
            "                                                                 \n",
            " dense_20 (Dense)            (None, 5)                 30        \n",
            "                                                                 \n",
            " dense_21 (Dense)            (None, 5)                 30        \n",
            "                                                                 \n",
            " dense_22 (Dense)            (None, 1)                 6         \n",
            "                                                                 \n",
            "=================================================================\n",
            "Total params: 76 (304.00 Byte)\n",
            "Trainable params: 76 (304.00 Byte)\n",
            "Non-trainable params: 0 (0.00 Byte)\n",
            "_________________________________________________________________\n"
          ]
        }
      ],
      "source": [
        "# Define the model - deep neural net, i.e., the number of input features and hidden nodes for each layer.\n",
        "\n",
        "\n",
        "nn_model = tf.keras.models.Sequential()\n",
        "\n",
        "# First hidden layer\n",
        "nn_model.add(tf.keras.layers.Dense(units=5, activation= \"relu\", input_dim=1))\n",
        "\n",
        "# Second hidden layer\n",
        "nn_model.add(tf.keras.layers.Dense(units=5, activation= \"relu\"))\n",
        "\n",
        "# Third hidden layer\n",
        "nn_model.add(tf.keras.layers.Dense(units=5, activation= \"relu\"))\n",
        "\n",
        "# Output layer\n",
        "nn_model.add(tf.keras.layers.Dense(units=1, activation=\"sigmoid\"))\n",
        "\n",
        "# Check the structure of the model\n",
        "nn_model.summary()"
      ]
    },
    {
      "cell_type": "code",
      "execution_count": 62,
      "metadata": {
        "colab": {
          "base_uri": "https://localhost:8080/"
        },
        "id": "M2dZOenZtMh-",
        "outputId": "b73fa265-855d-464d-d893-02e5dbdbe1ab"
      },
      "outputs": [
        {
          "output_type": "stream",
          "name": "stderr",
          "text": [
            "WARNING:tensorflow:`period` argument is deprecated. Please use `save_freq` to specify the frequency in number of batches seen.\n"
          ]
        }
      ],
      "source": [
        "# Compile the model\n",
        "nn_model.compile(optimizer='adam', loss='binary_crossentropy', metrics=['accuracy'])\n",
        "\n",
        "# Create a callback for saving model weights\n",
        "checkpoint_path = \"model_checkpoint.h5\"\n",
        "checkpoint = ModelCheckpoint(checkpoint_path, save_weights_only=True, save_best_only=True, verbose=1, period=5)"
      ]
    },
    {
      "cell_type": "code",
      "execution_count": 63,
      "metadata": {
        "colab": {
          "base_uri": "https://localhost:8080/"
        },
        "id": "22q0QsrRtMh-",
        "outputId": "a04d3720-dffe-4723-a885-ee2acee790f7"
      },
      "outputs": [
        {
          "output_type": "stream",
          "name": "stdout",
          "text": [
            "Epoch 1/100\n",
            "804/804 [==============================] - 3s 3ms/step - loss: 987.1196 - accuracy: 0.4969 - val_loss: 0.6999 - val_accuracy: 0.5343\n",
            "Epoch 2/100\n",
            "804/804 [==============================] - 2s 2ms/step - loss: 0.6952 - accuracy: 0.5318 - val_loss: 0.6914 - val_accuracy: 0.5343\n",
            "Epoch 3/100\n",
            "804/804 [==============================] - 3s 3ms/step - loss: 0.6914 - accuracy: 0.5318 - val_loss: 0.6908 - val_accuracy: 0.5343\n",
            "Epoch 4/100\n",
            "804/804 [==============================] - 3s 4ms/step - loss: 0.6912 - accuracy: 0.5318 - val_loss: 0.6908 - val_accuracy: 0.5343\n",
            "Epoch 5/100\n",
            "783/804 [============================>.] - ETA: 0s - loss: 0.6911 - accuracy: 0.5319\n",
            "Epoch 5: val_loss improved from inf to 0.69079, saving model to model_checkpoint.h5\n",
            "804/804 [==============================] - 2s 2ms/step - loss: 0.6912 - accuracy: 0.5318 - val_loss: 0.6908 - val_accuracy: 0.5343\n",
            "Epoch 6/100\n",
            "804/804 [==============================] - 2s 3ms/step - loss: 0.6912 - accuracy: 0.5318 - val_loss: 0.6908 - val_accuracy: 0.5343\n",
            "Epoch 7/100\n",
            "804/804 [==============================] - 2s 3ms/step - loss: 0.6912 - accuracy: 0.5318 - val_loss: 0.6908 - val_accuracy: 0.5343\n",
            "Epoch 8/100\n",
            "804/804 [==============================] - 2s 2ms/step - loss: 0.6912 - accuracy: 0.5318 - val_loss: 0.6908 - val_accuracy: 0.5343\n",
            "Epoch 9/100\n",
            "804/804 [==============================] - 2s 3ms/step - loss: 0.6912 - accuracy: 0.5318 - val_loss: 0.6908 - val_accuracy: 0.5343\n",
            "Epoch 10/100\n",
            "802/804 [============================>.] - ETA: 0s - loss: 0.6911 - accuracy: 0.5320\n",
            "Epoch 10: val_loss improved from 0.69079 to 0.69079, saving model to model_checkpoint.h5\n",
            "804/804 [==============================] - 3s 4ms/step - loss: 0.6912 - accuracy: 0.5318 - val_loss: 0.6908 - val_accuracy: 0.5343\n",
            "Epoch 11/100\n",
            "804/804 [==============================] - 2s 3ms/step - loss: 0.6912 - accuracy: 0.5318 - val_loss: 0.6908 - val_accuracy: 0.5343\n",
            "Epoch 12/100\n",
            "804/804 [==============================] - 2s 3ms/step - loss: 0.6912 - accuracy: 0.5318 - val_loss: 0.6908 - val_accuracy: 0.5343\n",
            "Epoch 13/100\n",
            "804/804 [==============================] - 2s 3ms/step - loss: 0.6912 - accuracy: 0.5318 - val_loss: 0.6908 - val_accuracy: 0.5343\n",
            "Epoch 14/100\n",
            "804/804 [==============================] - 2s 2ms/step - loss: 0.6912 - accuracy: 0.5318 - val_loss: 0.6908 - val_accuracy: 0.5343\n",
            "Epoch 15/100\n",
            "794/804 [============================>.] - ETA: 0s - loss: 0.6911 - accuracy: 0.5322\n",
            "Epoch 15: val_loss did not improve from 0.69079\n",
            "804/804 [==============================] - 2s 3ms/step - loss: 0.6912 - accuracy: 0.5318 - val_loss: 0.6908 - val_accuracy: 0.5343\n",
            "Epoch 16/100\n",
            "804/804 [==============================] - 3s 4ms/step - loss: 0.6912 - accuracy: 0.5318 - val_loss: 0.6908 - val_accuracy: 0.5343\n",
            "Epoch 17/100\n",
            "804/804 [==============================] - 2s 3ms/step - loss: 0.6912 - accuracy: 0.5318 - val_loss: 0.6908 - val_accuracy: 0.5343\n",
            "Epoch 18/100\n",
            "804/804 [==============================] - 2s 3ms/step - loss: 0.6911 - accuracy: 0.5318 - val_loss: 0.6910 - val_accuracy: 0.5343\n",
            "Epoch 19/100\n",
            "804/804 [==============================] - 2s 3ms/step - loss: 0.6912 - accuracy: 0.5318 - val_loss: 0.6908 - val_accuracy: 0.5343\n",
            "Epoch 20/100\n",
            "802/804 [============================>.] - ETA: 0s - loss: 0.6912 - accuracy: 0.5317\n",
            "Epoch 20: val_loss did not improve from 0.69079\n",
            "804/804 [==============================] - 2s 3ms/step - loss: 0.6912 - accuracy: 0.5318 - val_loss: 0.6908 - val_accuracy: 0.5343\n",
            "Epoch 21/100\n",
            "804/804 [==============================] - 2s 2ms/step - loss: 0.6912 - accuracy: 0.5318 - val_loss: 0.6908 - val_accuracy: 0.5343\n",
            "Epoch 22/100\n",
            "804/804 [==============================] - 3s 3ms/step - loss: 0.6912 - accuracy: 0.5318 - val_loss: 0.6909 - val_accuracy: 0.5343\n",
            "Epoch 23/100\n",
            "804/804 [==============================] - 3s 4ms/step - loss: 0.6912 - accuracy: 0.5318 - val_loss: 0.6908 - val_accuracy: 0.5343\n",
            "Epoch 24/100\n",
            "804/804 [==============================] - 2s 2ms/step - loss: 0.6911 - accuracy: 0.5318 - val_loss: 0.6910 - val_accuracy: 0.5343\n",
            "Epoch 25/100\n",
            "788/804 [============================>.] - ETA: 0s - loss: 0.6912 - accuracy: 0.5317\n",
            "Epoch 25: val_loss did not improve from 0.69079\n",
            "804/804 [==============================] - 2s 2ms/step - loss: 0.6912 - accuracy: 0.5318 - val_loss: 0.6908 - val_accuracy: 0.5343\n",
            "Epoch 26/100\n",
            "804/804 [==============================] - 2s 2ms/step - loss: 0.6912 - accuracy: 0.5318 - val_loss: 0.6908 - val_accuracy: 0.5343\n",
            "Epoch 27/100\n",
            "804/804 [==============================] - 2s 2ms/step - loss: 0.6912 - accuracy: 0.5318 - val_loss: 0.6908 - val_accuracy: 0.5343\n",
            "Epoch 28/100\n",
            "804/804 [==============================] - 2s 3ms/step - loss: 0.6911 - accuracy: 0.5318 - val_loss: 0.6908 - val_accuracy: 0.5343\n",
            "Epoch 29/100\n",
            "804/804 [==============================] - 3s 3ms/step - loss: 0.6912 - accuracy: 0.5318 - val_loss: 0.6908 - val_accuracy: 0.5343\n",
            "Epoch 30/100\n",
            "778/804 [============================>.] - ETA: 0s - loss: 0.6910 - accuracy: 0.5325\n",
            "Epoch 30: val_loss did not improve from 0.69079\n",
            "804/804 [==============================] - 2s 3ms/step - loss: 0.6912 - accuracy: 0.5318 - val_loss: 0.6908 - val_accuracy: 0.5343\n",
            "Epoch 31/100\n",
            "804/804 [==============================] - 2s 3ms/step - loss: 0.6912 - accuracy: 0.5318 - val_loss: 0.6908 - val_accuracy: 0.5343\n",
            "Epoch 32/100\n",
            "804/804 [==============================] - 2s 3ms/step - loss: 0.6912 - accuracy: 0.5318 - val_loss: 0.6908 - val_accuracy: 0.5343\n",
            "Epoch 33/100\n",
            "804/804 [==============================] - 2s 3ms/step - loss: 0.6912 - accuracy: 0.5318 - val_loss: 0.6908 - val_accuracy: 0.5343\n",
            "Epoch 34/100\n",
            "804/804 [==============================] - 2s 2ms/step - loss: 0.6912 - accuracy: 0.5318 - val_loss: 0.6908 - val_accuracy: 0.5343\n",
            "Epoch 35/100\n",
            "801/804 [============================>.] - ETA: 0s - loss: 0.6912 - accuracy: 0.5319\n",
            "Epoch 35: val_loss improved from 0.69079 to 0.69079, saving model to model_checkpoint.h5\n",
            "804/804 [==============================] - 3s 3ms/step - loss: 0.6912 - accuracy: 0.5318 - val_loss: 0.6908 - val_accuracy: 0.5343\n",
            "Epoch 36/100\n",
            "804/804 [==============================] - 3s 3ms/step - loss: 0.6912 - accuracy: 0.5318 - val_loss: 0.6908 - val_accuracy: 0.5343\n",
            "Epoch 37/100\n",
            "804/804 [==============================] - 2s 3ms/step - loss: 0.6912 - accuracy: 0.5318 - val_loss: 0.6908 - val_accuracy: 0.5343\n",
            "Epoch 38/100\n",
            "804/804 [==============================] - 2s 2ms/step - loss: 0.6912 - accuracy: 0.5318 - val_loss: 0.6908 - val_accuracy: 0.5343\n",
            "Epoch 39/100\n",
            "804/804 [==============================] - 2s 3ms/step - loss: 0.6912 - accuracy: 0.5318 - val_loss: 0.6908 - val_accuracy: 0.5343\n",
            "Epoch 40/100\n",
            "797/804 [============================>.] - ETA: 0s - loss: 0.6913 - accuracy: 0.5313\n",
            "Epoch 40: val_loss did not improve from 0.69079\n",
            "804/804 [==============================] - 2s 3ms/step - loss: 0.6912 - accuracy: 0.5318 - val_loss: 0.6908 - val_accuracy: 0.5343\n",
            "Epoch 41/100\n",
            "804/804 [==============================] - 2s 3ms/step - loss: 0.6912 - accuracy: 0.5318 - val_loss: 0.6908 - val_accuracy: 0.5343\n",
            "Epoch 42/100\n",
            "804/804 [==============================] - 3s 4ms/step - loss: 0.6912 - accuracy: 0.5318 - val_loss: 0.6908 - val_accuracy: 0.5343\n",
            "Epoch 43/100\n",
            "804/804 [==============================] - 2s 3ms/step - loss: 0.6912 - accuracy: 0.5318 - val_loss: 0.6908 - val_accuracy: 0.5343\n",
            "Epoch 44/100\n",
            "804/804 [==============================] - 2s 2ms/step - loss: 0.6912 - accuracy: 0.5318 - val_loss: 0.6908 - val_accuracy: 0.5343\n",
            "Epoch 45/100\n",
            "787/804 [============================>.] - ETA: 0s - loss: 0.6911 - accuracy: 0.5322\n",
            "Epoch 45: val_loss did not improve from 0.69079\n",
            "804/804 [==============================] - 2s 2ms/step - loss: 0.6912 - accuracy: 0.5318 - val_loss: 0.6909 - val_accuracy: 0.5343\n",
            "Epoch 46/100\n",
            "804/804 [==============================] - 2s 3ms/step - loss: 0.6912 - accuracy: 0.5318 - val_loss: 0.6908 - val_accuracy: 0.5343\n",
            "Epoch 47/100\n",
            "804/804 [==============================] - 2s 3ms/step - loss: 0.6912 - accuracy: 0.5318 - val_loss: 0.6908 - val_accuracy: 0.5343\n",
            "Epoch 48/100\n",
            "804/804 [==============================] - 3s 4ms/step - loss: 0.6911 - accuracy: 0.5318 - val_loss: 0.6909 - val_accuracy: 0.5343\n",
            "Epoch 49/100\n",
            "804/804 [==============================] - 2s 3ms/step - loss: 0.6912 - accuracy: 0.5318 - val_loss: 0.6909 - val_accuracy: 0.5343\n",
            "Epoch 50/100\n",
            "781/804 [============================>.] - ETA: 0s - loss: 0.6912 - accuracy: 0.5316\n",
            "Epoch 50: val_loss did not improve from 0.69079\n",
            "804/804 [==============================] - 2s 2ms/step - loss: 0.6912 - accuracy: 0.5318 - val_loss: 0.6908 - val_accuracy: 0.5343\n",
            "Epoch 51/100\n",
            "804/804 [==============================] - 2s 3ms/step - loss: 0.6912 - accuracy: 0.5318 - val_loss: 0.6908 - val_accuracy: 0.5343\n",
            "Epoch 52/100\n",
            "804/804 [==============================] - 2s 3ms/step - loss: 0.6912 - accuracy: 0.5318 - val_loss: 0.6908 - val_accuracy: 0.5343\n",
            "Epoch 53/100\n",
            "804/804 [==============================] - 2s 2ms/step - loss: 0.6912 - accuracy: 0.5318 - val_loss: 0.6908 - val_accuracy: 0.5343\n",
            "Epoch 54/100\n",
            "804/804 [==============================] - 3s 3ms/step - loss: 0.6912 - accuracy: 0.5318 - val_loss: 0.6908 - val_accuracy: 0.5343\n",
            "Epoch 55/100\n",
            "793/804 [============================>.] - ETA: 0s - loss: 0.6912 - accuracy: 0.5318\n",
            "Epoch 55: val_loss did not improve from 0.69079\n",
            "804/804 [==============================] - 3s 4ms/step - loss: 0.6912 - accuracy: 0.5318 - val_loss: 0.6908 - val_accuracy: 0.5343\n",
            "Epoch 56/100\n",
            "804/804 [==============================] - 2s 3ms/step - loss: 0.6912 - accuracy: 0.5318 - val_loss: 0.6908 - val_accuracy: 0.5343\n",
            "Epoch 57/100\n",
            "804/804 [==============================] - 2s 3ms/step - loss: 0.6912 - accuracy: 0.5318 - val_loss: 0.6908 - val_accuracy: 0.5343\n",
            "Epoch 58/100\n",
            "804/804 [==============================] - 2s 3ms/step - loss: 0.6912 - accuracy: 0.5318 - val_loss: 0.6908 - val_accuracy: 0.5343\n",
            "Epoch 59/100\n",
            "804/804 [==============================] - 2s 2ms/step - loss: 0.6912 - accuracy: 0.5318 - val_loss: 0.6908 - val_accuracy: 0.5343\n",
            "Epoch 60/100\n",
            "803/804 [============================>.] - ETA: 0s - loss: 0.6912 - accuracy: 0.5316\n",
            "Epoch 60: val_loss did not improve from 0.69079\n",
            "804/804 [==============================] - 3s 3ms/step - loss: 0.6912 - accuracy: 0.5318 - val_loss: 0.6908 - val_accuracy: 0.5343\n",
            "Epoch 61/100\n",
            "804/804 [==============================] - 3s 4ms/step - loss: 0.6912 - accuracy: 0.5318 - val_loss: 0.6908 - val_accuracy: 0.5343\n",
            "Epoch 62/100\n",
            "804/804 [==============================] - 2s 2ms/step - loss: 0.6912 - accuracy: 0.5318 - val_loss: 0.6908 - val_accuracy: 0.5343\n",
            "Epoch 63/100\n",
            "804/804 [==============================] - 2s 3ms/step - loss: 0.6912 - accuracy: 0.5318 - val_loss: 0.6908 - val_accuracy: 0.5343\n",
            "Epoch 64/100\n",
            "804/804 [==============================] - 2s 2ms/step - loss: 0.6912 - accuracy: 0.5318 - val_loss: 0.6908 - val_accuracy: 0.5343\n",
            "Epoch 65/100\n",
            "801/804 [============================>.] - ETA: 0s - loss: 0.6912 - accuracy: 0.5320\n",
            "Epoch 65: val_loss did not improve from 0.69079\n",
            "804/804 [==============================] - 2s 2ms/step - loss: 0.6912 - accuracy: 0.5318 - val_loss: 0.6908 - val_accuracy: 0.5343\n",
            "Epoch 66/100\n",
            "804/804 [==============================] - 2s 3ms/step - loss: 0.6912 - accuracy: 0.5318 - val_loss: 0.6908 - val_accuracy: 0.5343\n",
            "Epoch 67/100\n",
            "804/804 [==============================] - 3s 4ms/step - loss: 0.6912 - accuracy: 0.5318 - val_loss: 0.6908 - val_accuracy: 0.5343\n",
            "Epoch 68/100\n",
            "804/804 [==============================] - 3s 3ms/step - loss: 0.6912 - accuracy: 0.5318 - val_loss: 0.6908 - val_accuracy: 0.5343\n",
            "Epoch 69/100\n",
            "804/804 [==============================] - 2s 3ms/step - loss: 0.6912 - accuracy: 0.5318 - val_loss: 0.6909 - val_accuracy: 0.5343\n",
            "Epoch 70/100\n",
            "783/804 [============================>.] - ETA: 0s - loss: 0.6912 - accuracy: 0.5313\n",
            "Epoch 70: val_loss did not improve from 0.69079\n",
            "804/804 [==============================] - 2s 2ms/step - loss: 0.6912 - accuracy: 0.5318 - val_loss: 0.6908 - val_accuracy: 0.5343\n",
            "Epoch 71/100\n",
            "804/804 [==============================] - 2s 3ms/step - loss: 0.6912 - accuracy: 0.5318 - val_loss: 0.6908 - val_accuracy: 0.5343\n",
            "Epoch 72/100\n",
            "804/804 [==============================] - 2s 3ms/step - loss: 0.6912 - accuracy: 0.5318 - val_loss: 0.6908 - val_accuracy: 0.5343\n",
            "Epoch 73/100\n",
            "804/804 [==============================] - 3s 4ms/step - loss: 0.6912 - accuracy: 0.5318 - val_loss: 0.6908 - val_accuracy: 0.5343\n",
            "Epoch 74/100\n",
            "804/804 [==============================] - 2s 3ms/step - loss: 0.6912 - accuracy: 0.5318 - val_loss: 0.6909 - val_accuracy: 0.5343\n",
            "Epoch 75/100\n",
            "791/804 [============================>.] - ETA: 0s - loss: 0.6912 - accuracy: 0.5316\n",
            "Epoch 75: val_loss did not improve from 0.69079\n",
            "804/804 [==============================] - 2s 2ms/step - loss: 0.6912 - accuracy: 0.5318 - val_loss: 0.6908 - val_accuracy: 0.5343\n",
            "Epoch 76/100\n",
            "804/804 [==============================] - 2s 2ms/step - loss: 0.6912 - accuracy: 0.5318 - val_loss: 0.6908 - val_accuracy: 0.5343\n",
            "Epoch 77/100\n",
            "804/804 [==============================] - 2s 2ms/step - loss: 0.6912 - accuracy: 0.5318 - val_loss: 0.6908 - val_accuracy: 0.5343\n",
            "Epoch 78/100\n",
            "804/804 [==============================] - 2s 2ms/step - loss: 0.6912 - accuracy: 0.5318 - val_loss: 0.6908 - val_accuracy: 0.5343\n",
            "Epoch 79/100\n",
            "804/804 [==============================] - 2s 3ms/step - loss: 0.6912 - accuracy: 0.5318 - val_loss: 0.6908 - val_accuracy: 0.5343\n",
            "Epoch 80/100\n",
            "788/804 [============================>.] - ETA: 0s - loss: 0.6913 - accuracy: 0.5309\n",
            "Epoch 80: val_loss did not improve from 0.69079\n",
            "804/804 [==============================] - 3s 4ms/step - loss: 0.6912 - accuracy: 0.5318 - val_loss: 0.6908 - val_accuracy: 0.5343\n",
            "Epoch 81/100\n",
            "804/804 [==============================] - 2s 3ms/step - loss: 0.6911 - accuracy: 0.5318 - val_loss: 0.6910 - val_accuracy: 0.5343\n",
            "Epoch 82/100\n",
            "804/804 [==============================] - 2s 3ms/step - loss: 0.6912 - accuracy: 0.5318 - val_loss: 0.6908 - val_accuracy: 0.5343\n",
            "Epoch 83/100\n",
            "804/804 [==============================] - 2s 3ms/step - loss: 0.6912 - accuracy: 0.5318 - val_loss: 0.6908 - val_accuracy: 0.5343\n",
            "Epoch 84/100\n",
            "804/804 [==============================] - 2s 3ms/step - loss: 0.6912 - accuracy: 0.5318 - val_loss: 0.6908 - val_accuracy: 0.5343\n",
            "Epoch 85/100\n",
            "799/804 [============================>.] - ETA: 0s - loss: 0.6912 - accuracy: 0.5318\n",
            "Epoch 85: val_loss did not improve from 0.69079\n",
            "804/804 [==============================] - 3s 3ms/step - loss: 0.6912 - accuracy: 0.5318 - val_loss: 0.6908 - val_accuracy: 0.5343\n",
            "Epoch 86/100\n",
            "804/804 [==============================] - 3s 4ms/step - loss: 0.6912 - accuracy: 0.5318 - val_loss: 0.6908 - val_accuracy: 0.5343\n",
            "Epoch 87/100\n",
            "804/804 [==============================] - 2s 3ms/step - loss: 0.6911 - accuracy: 0.5318 - val_loss: 0.6909 - val_accuracy: 0.5343\n",
            "Epoch 88/100\n",
            "804/804 [==============================] - 2s 3ms/step - loss: 0.6912 - accuracy: 0.5318 - val_loss: 0.6908 - val_accuracy: 0.5343\n",
            "Epoch 89/100\n",
            "804/804 [==============================] - 2s 3ms/step - loss: 0.6911 - accuracy: 0.5318 - val_loss: 0.6908 - val_accuracy: 0.5343\n",
            "Epoch 90/100\n",
            "799/804 [============================>.] - ETA: 0s - loss: 0.6912 - accuracy: 0.5317\n",
            "Epoch 90: val_loss did not improve from 0.69079\n",
            "804/804 [==============================] - 2s 2ms/step - loss: 0.6912 - accuracy: 0.5318 - val_loss: 0.6908 - val_accuracy: 0.5343\n",
            "Epoch 91/100\n",
            "804/804 [==============================] - 2s 3ms/step - loss: 0.6912 - accuracy: 0.5318 - val_loss: 0.6908 - val_accuracy: 0.5343\n",
            "Epoch 92/100\n",
            "804/804 [==============================] - 3s 4ms/step - loss: 0.6912 - accuracy: 0.5318 - val_loss: 0.6908 - val_accuracy: 0.5343\n",
            "Epoch 93/100\n",
            "804/804 [==============================] - 3s 3ms/step - loss: 0.6912 - accuracy: 0.5318 - val_loss: 0.6908 - val_accuracy: 0.5343\n",
            "Epoch 94/100\n",
            "804/804 [==============================] - 2s 2ms/step - loss: 0.6912 - accuracy: 0.5318 - val_loss: 0.6908 - val_accuracy: 0.5343\n",
            "Epoch 95/100\n",
            "784/804 [============================>.] - ETA: 0s - loss: 0.6912 - accuracy: 0.5314\n",
            "Epoch 95: val_loss did not improve from 0.69079\n",
            "804/804 [==============================] - 2s 2ms/step - loss: 0.6912 - accuracy: 0.5318 - val_loss: 0.6908 - val_accuracy: 0.5343\n",
            "Epoch 96/100\n",
            "804/804 [==============================] - 2s 2ms/step - loss: 0.6912 - accuracy: 0.5318 - val_loss: 0.6908 - val_accuracy: 0.5343\n",
            "Epoch 97/100\n",
            "804/804 [==============================] - 2s 2ms/step - loss: 0.6911 - accuracy: 0.5318 - val_loss: 0.6908 - val_accuracy: 0.5343\n",
            "Epoch 98/100\n",
            "804/804 [==============================] - 3s 3ms/step - loss: 0.6912 - accuracy: 0.5318 - val_loss: 0.6908 - val_accuracy: 0.5343\n",
            "Epoch 99/100\n",
            "804/804 [==============================] - 3s 3ms/step - loss: 0.6911 - accuracy: 0.5318 - val_loss: 0.6908 - val_accuracy: 0.5343\n",
            "Epoch 100/100\n",
            "794/804 [============================>.] - ETA: 0s - loss: 0.6911 - accuracy: 0.5321\n",
            "Epoch 100: val_loss did not improve from 0.69079\n",
            "804/804 [==============================] - 2s 2ms/step - loss: 0.6912 - accuracy: 0.5318 - val_loss: 0.6908 - val_accuracy: 0.5343\n"
          ]
        },
        {
          "output_type": "execute_result",
          "data": {
            "text/plain": [
              "<keras.src.callbacks.History at 0x7d3870cfa2c0>"
            ]
          },
          "metadata": {},
          "execution_count": 63
        }
      ],
      "source": [
        "# Train the model\n",
        "nn_model.fit(X_train, y_train, epochs=100, callbacks=[checkpoint], validation_data=(X_test, y_test))"
      ]
    },
    {
      "cell_type": "code",
      "execution_count": 64,
      "metadata": {
        "colab": {
          "base_uri": "https://localhost:8080/"
        },
        "id": "zdtaVMGGtMh_",
        "outputId": "a28d37c9-87d9-4878-ea60-714542bf6fdb"
      },
      "outputs": [
        {
          "output_type": "stream",
          "name": "stdout",
          "text": [
            "268/268 - 0s - loss: 0.6908 - accuracy: 0.5343 - 372ms/epoch - 1ms/step\n",
            "Loss: 0.6908122301101685, Accuracy: 0.5343440175056458\n"
          ]
        }
      ],
      "source": [
        "# Evaluate the model using the test data\n",
        "model_loss, model_accuracy = nn_model.evaluate(X_test,y_test,verbose=2)\n",
        "print(f\"Loss: {model_loss}, Accuracy: {model_accuracy}\")\n"
      ]
    },
    {
      "cell_type": "code",
      "execution_count": 65,
      "metadata": {
        "colab": {
          "base_uri": "https://localhost:8080/"
        },
        "id": "89V7AyPGtMh_",
        "outputId": "5e16b1a7-eef3-44ce-aa2e-4323a41b9c88"
      },
      "outputs": [
        {
          "output_type": "stream",
          "name": "stderr",
          "text": [
            "/usr/local/lib/python3.10/dist-packages/keras/src/engine/training.py:3079: UserWarning: You are saving your model as an HDF5 file via `model.save()`. This file format is considered legacy. We recommend using instead the native Keras format, e.g. `model.save('my_model.keras')`.\n",
            "  saving_api.save_model(\n"
          ]
        }
      ],
      "source": [
        "# Export our model to HDF5 file\n",
        "nn_model.save(\"AlphabetSoupCharity.h5\")"
      ]
    }
  ],
  "metadata": {
    "kernelspec": {
      "display_name": "Python 3",
      "language": "python",
      "name": "python3"
    },
    "language_info": {
      "codemirror_mode": {
        "name": "ipython",
        "version": 3
      },
      "file_extension": ".py",
      "mimetype": "text/x-python",
      "name": "python",
      "nbconvert_exporter": "python",
      "pygments_lexer": "ipython3",
      "version": "3.-1.-1"
    },
    "vscode": {
      "interpreter": {
        "hash": "31f2aee4e71d21fbe5cf8b01ff0e069b9275f58929596ceb00d14d90e3e16cd6"
      }
    },
    "colab": {
      "provenance": [],
      "include_colab_link": true
    }
  },
  "nbformat": 4,
  "nbformat_minor": 0
}